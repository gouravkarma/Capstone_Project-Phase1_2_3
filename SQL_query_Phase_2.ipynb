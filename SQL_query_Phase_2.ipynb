{
 "cells": [
  {
   "cell_type": "code",
   "execution_count": null,
   "id": "32ef2fbe",
   "metadata": {},
   "outputs": [],
   "source": [
    "#  Write the SQL queries :\n",
    "\n",
    "  Table 1           \n"
   ]
  },
  {
   "cell_type": "code",
   "execution_count": 1,
   "id": "61e42489",
   "metadata": {},
   "outputs": [],
   "source": [
    "import sqlite3"
   ]
  },
  {
   "cell_type": "code",
   "execution_count": 3,
   "id": "1aeabdb6",
   "metadata": {},
   "outputs": [],
   "source": [
    "db=sqlite3.connect('TABLE_1_database.db')"
   ]
  },
  {
   "cell_type": "code",
   "execution_count": 4,
   "id": "ea14e08a",
   "metadata": {},
   "outputs": [],
   "source": [
    "cursor=db.cursor()"
   ]
  },
  {
   "cell_type": "code",
   "execution_count": 5,
   "id": "dcfdc842",
   "metadata": {},
   "outputs": [
    {
     "data": {
      "text/plain": [
       "<sqlite3.Cursor at 0x168534f6b20>"
      ]
     },
     "execution_count": 5,
     "metadata": {},
     "output_type": "execute_result"
    }
   ],
   "source": [
    "cursor.execute(\"create table TABLE_1(ShoeName text,Category text,no of colors text,price int)\")"
   ]
  },
  {
   "cell_type": "code",
   "execution_count": 7,
   "id": "edf07140",
   "metadata": {},
   "outputs": [
    {
     "name": "stdout",
     "output_type": "stream",
     "text": [
      "25 Records inserted\n"
     ]
    }
   ],
   "source": [
    "with open('TABLE_1.csv','r') as file:\n",
    "    total_records=0\n",
    "    for row in file:\n",
    "        cursor.execute(\"insert into Table_1 values(?,?,?,?)\",row.split(\",\"))\n",
    "        db.commit()\n",
    "        total_records+=1\n",
    "print(total_records,'Records inserted')"
   ]
  },
  {
   "cell_type": "code",
   "execution_count": 8,
   "id": "fa9e6637",
   "metadata": {},
   "outputs": [
    {
     "name": "stdout",
     "output_type": "stream",
     "text": [
      "('ShoeName', 'Category(Men/Women)', 'no of colors', 'priceÂ\\xa0Â\\xa0\\n')\n",
      "('Nike', 'men', '4', 1999)\n",
      "('adidas', 'women', '5', 2999)\n",
      "('pump', 'women', '8', 1599)\n",
      "('skechers', 'women', '3', 2199)\n",
      "('columbia', 'men', '7', 1999)\n",
      "('woodland', 'men', '2', 3999)\n",
      "('Nike', 'men', '9', 1599)\n",
      "('adidas', 'men', '9', 1699)\n",
      "('pump', 'men', '3', 3000)\n",
      "('skechers', 'women', '4', 2999)\n",
      "('columbia', 'women', '7', 1399)\n",
      "('woodland', 'women', '2', 1499)\n",
      "('Nike', 'men', '8', 1599)\n",
      "('adidas', 'men', '9', 299)\n",
      "('pump', 'men', '5', 1999)\n",
      "('skechers', 'men', '2', 1899)\n",
      "('columbia', 'men', '7', 1399)\n",
      "('woodland', 'women', '8', 2499)\n",
      "('Nike', 'men', '2', 3999)\n",
      "('adidas', 'women', '9', 1499)\n",
      "('pump', 'men', '4', 2999)\n",
      "('skechers', 'women', '5', 1499)\n",
      "('columbia', 'men', '6', 2399)\n",
      "('woodland', 'men', '2', 2199)\n"
     ]
    }
   ],
   "source": [
    "result=cursor.execute(\"select * from Table_1\")\n",
    "for row in result:\n",
    "    print( row)"
   ]
  },
  {
   "cell_type": "code",
   "execution_count": 28,
   "id": "9152ab5f",
   "metadata": {},
   "outputs": [
    {
     "data": {
      "text/plain": [
       "[('Category(Men/Women)', 'priceÂ\\xa0Â\\xa0\\n'),\n",
       " ('men', 1999),\n",
       " ('women', 2999),\n",
       " ('women', 1599),\n",
       " ('women', 2199),\n",
       " ('men', 1999),\n",
       " ('men', 3999),\n",
       " ('men', 1599),\n",
       " ('men', 1699),\n",
       " ('men', 3000),\n",
       " ('women', 2999),\n",
       " ('women', 1399),\n",
       " ('women', 1499),\n",
       " ('men', 1599),\n",
       " ('men', 299),\n",
       " ('men', 1999),\n",
       " ('men', 1899),\n",
       " ('men', 1399),\n",
       " ('women', 2499),\n",
       " ('men', 3999),\n",
       " ('women', 1499),\n",
       " ('men', 2999),\n",
       " ('women', 1499),\n",
       " ('men', 2399),\n",
       " ('men', 2199)]"
      ]
     },
     "execution_count": 28,
     "metadata": {},
     "output_type": "execute_result"
    }
   ],
   "source": [
    "result=cursor.execute(\"select Category,price from Table_1\")\n",
    "result.fetchall()"
   ]
  },
  {
   "cell_type": "code",
   "execution_count": 17,
   "id": "dcc8e7bd",
   "metadata": {},
   "outputs": [
    {
     "ename": "OperationalError",
     "evalue": "near \"colors\": syntax error",
     "output_type": "error",
     "traceback": [
      "\u001b[1;31m---------------------------------------------------------------------------\u001b[0m",
      "\u001b[1;31mOperationalError\u001b[0m                          Traceback (most recent call last)",
      "\u001b[1;32m~\\AppData\\Local\\Temp\\ipykernel_25404\\2684134426.py\u001b[0m in \u001b[0;36m<module>\u001b[1;34m\u001b[0m\n\u001b[1;32m----> 1\u001b[1;33m \u001b[0mresult\u001b[0m\u001b[1;33m=\u001b[0m\u001b[0mcursor\u001b[0m\u001b[1;33m.\u001b[0m\u001b[0mexecute\u001b[0m\u001b[1;33m(\u001b[0m\u001b[1;34m\"select no of colors from Table_1\"\u001b[0m\u001b[1;33m)\u001b[0m\u001b[1;33m\u001b[0m\u001b[1;33m\u001b[0m\u001b[0m\n\u001b[0m\u001b[0;32m      2\u001b[0m \u001b[1;32mfor\u001b[0m \u001b[0mrow\u001b[0m \u001b[1;32min\u001b[0m \u001b[0mresult\u001b[0m\u001b[1;33m:\u001b[0m\u001b[1;33m\u001b[0m\u001b[1;33m\u001b[0m\u001b[0m\n\u001b[0;32m      3\u001b[0m     \u001b[0mprint\u001b[0m\u001b[1;33m(\u001b[0m \u001b[0mrow\u001b[0m\u001b[1;33m)\u001b[0m\u001b[1;33m\u001b[0m\u001b[1;33m\u001b[0m\u001b[0m\n",
      "\u001b[1;31mOperationalError\u001b[0m: near \"colors\": syntax error"
     ]
    }
   ],
   "source": [
    "result=cursor.execute(\"select no of colors from Table_1\")\n",
    "for row in result:\n",
    "    print( row)"
   ]
  },
  {
   "cell_type": "code",
   "execution_count": 14,
   "id": "5191e596",
   "metadata": {},
   "outputs": [
    {
     "name": "stdout",
     "output_type": "stream",
     "text": [
      "('priceÂ\\xa0Â\\xa0\\n',)\n"
     ]
    }
   ],
   "source": [
    "result=cursor.execute(\"select max(price) from Table_1\")\n",
    "for row in result:\n",
    "    print( row)"
   ]
  },
  {
   "cell_type": "code",
   "execution_count": 25,
   "id": "16ed18ce",
   "metadata": {},
   "outputs": [
    {
     "name": "stdout",
     "output_type": "stream",
     "text": [
      "(0, 299)\n"
     ]
    }
   ],
   "source": [
    "result=cursor.execute(\"select Category like '_____',min(price) from Table_1\")\n",
    "for row in result:\n",
    "    print( row)"
   ]
  },
  {
   "cell_type": "code",
   "execution_count": 30,
   "id": "60c72f83",
   "metadata": {},
   "outputs": [
    {
     "data": {
      "text/plain": [
       "[(0, 'priceÂ\\xa0Â\\xa0\\n'),\n",
       " (1, 1999),\n",
       " (0, 2999),\n",
       " (0, 1599),\n",
       " (0, 2199),\n",
       " (1, 1999),\n",
       " (1, 3999),\n",
       " (1, 1599),\n",
       " (1, 1699),\n",
       " (1, 3000),\n",
       " (0, 2999),\n",
       " (0, 1399),\n",
       " (0, 1499),\n",
       " (1, 1599),\n",
       " (1, 299),\n",
       " (1, 1999),\n",
       " (1, 1899),\n",
       " (1, 1399),\n",
       " (0, 2499),\n",
       " (1, 3999),\n",
       " (0, 1499),\n",
       " (1, 2999),\n",
       " (0, 1499),\n",
       " (1, 2399),\n",
       " (1, 2199)]"
      ]
     },
     "execution_count": 30,
     "metadata": {},
     "output_type": "execute_result"
    }
   ],
   "source": [
    "result=cursor.execute(\"select Category like 'm%',price from Table_1\")\n",
    "result.fetchall()"
   ]
  },
  {
   "cell_type": "code",
   "execution_count": 31,
   "id": "e8506de5",
   "metadata": {},
   "outputs": [],
   "source": [
    "# Table 2\n"
   ]
  },
  {
   "cell_type": "code",
   "execution_count": 83,
   "id": "ab69a987",
   "metadata": {},
   "outputs": [],
   "source": [
    "import sqlite3"
   ]
  },
  {
   "cell_type": "code",
   "execution_count": 84,
   "id": "0480d4c2",
   "metadata": {},
   "outputs": [],
   "source": [
    "db=sqlite3.connect('table_2_database.db')"
   ]
  },
  {
   "cell_type": "code",
   "execution_count": 85,
   "id": "930f2910",
   "metadata": {},
   "outputs": [],
   "source": [
    "cursor=db.cursor()"
   ]
  },
  {
   "cell_type": "code",
   "execution_count": 86,
   "id": "20391e29",
   "metadata": {},
   "outputs": [
    {
     "ename": "OperationalError",
     "evalue": "table table_2 already exists",
     "output_type": "error",
     "traceback": [
      "\u001b[1;31m---------------------------------------------------------------------------\u001b[0m",
      "\u001b[1;31mOperationalError\u001b[0m                          Traceback (most recent call last)",
      "\u001b[1;32m~\\AppData\\Local\\Temp\\ipykernel_25404\\4183556244.py\u001b[0m in \u001b[0;36m<module>\u001b[1;34m\u001b[0m\n\u001b[1;32m----> 1\u001b[1;33m \u001b[0mcursor\u001b[0m\u001b[1;33m.\u001b[0m\u001b[0mexecute\u001b[0m\u001b[1;33m(\u001b[0m\u001b[1;34m\"create table table_2(count_of_sizes int, colors1 text, color2 text , color3 text ,color4 text, color5 text, Style_code text)\"\u001b[0m\u001b[1;33m)\u001b[0m\u001b[1;33m\u001b[0m\u001b[1;33m\u001b[0m\u001b[0m\n\u001b[0m",
      "\u001b[1;31mOperationalError\u001b[0m: table table_2 already exists"
     ]
    }
   ],
   "source": [
    "cursor.execute(\"create table table_2(count_of_sizes int, colors1 text, color2 text , color3 text ,color4 text, color5 text, Style_code text)\")"
   ]
  },
  {
   "cell_type": "code",
   "execution_count": 88,
   "id": "cfdef61d",
   "metadata": {},
   "outputs": [
    {
     "name": "stdout",
     "output_type": "stream",
     "text": [
      "7 Records inserted\n"
     ]
    }
   ],
   "source": [
    "with open('table_2.csv','r') as file:\n",
    "    total_records=0\n",
    "    for row in file:\n",
    "        cursor.execute(\"insert into TABLE_2 values(?,?,?,?,?,?,?)\",row.split(\",\"))\n",
    "        db.commit()\n",
    "        total_records+=1\n",
    "print(total_records,'Records inserted')"
   ]
  },
  {
   "cell_type": "code",
   "execution_count": 89,
   "id": "38bd749e",
   "metadata": {},
   "outputs": [
    {
     "name": "stdout",
     "output_type": "stream",
     "text": [
      "('count_of_sizes', ' colors1', ' color2', ' color3 ', 'color4', ' color5', ' Style_code  \\n')\n",
      "(7, 'black', 'grey', 'white', 'brown', 'red', 'Casual\\n')\n",
      "(8, 'white', 'brown', 'red', 'black', 'white', 'formal\\n')\n",
      "(9, 'grey', 'black', 'white', 'brown', 'red', 'sport\\n')\n",
      "(8, 'brown', 'red', 'black', 'white', 'red', 'sheaker\\n')\n",
      "(9, 'white', 'brown', 'red', 'red', 'blue', 'casual\\n')\n",
      "(7, 'brown', 'red', 'black', 'blue', 'brown', 'sport')\n"
     ]
    }
   ],
   "source": [
    "result=cursor.execute(\"select * from table_2\")\n",
    "for row in result:\n",
    "    print( row)"
   ]
  },
  {
   "cell_type": "code",
   "execution_count": 90,
   "id": "d16e6e0d",
   "metadata": {},
   "outputs": [
    {
     "name": "stdout",
     "output_type": "stream",
     "text": [
      "('count_of_sizes',)\n",
      "(7,)\n",
      "(8,)\n",
      "(9,)\n",
      "(8,)\n",
      "(9,)\n",
      "(7,)\n"
     ]
    }
   ],
   "source": [
    "result=cursor.execute(\"select count_of_sizes from table_2\")\n",
    "for row in result:\n",
    "    print( row)"
   ]
  },
  {
   "cell_type": "code",
   "execution_count": 92,
   "id": "c1e999e9",
   "metadata": {},
   "outputs": [
    {
     "name": "stdout",
     "output_type": "stream",
     "text": [
      "(' Style_code  \\n', ' colors1', ' color2', ' color3 ', 'color4', ' color5')\n",
      "('Casual\\n', 'black', 'grey', 'white', 'brown', 'red')\n",
      "('formal\\n', 'white', 'brown', 'red', 'black', 'white')\n",
      "('sport\\n', 'grey', 'black', 'white', 'brown', 'red')\n",
      "('sheaker\\n', 'brown', 'red', 'black', 'white', 'red')\n",
      "('casual\\n', 'white', 'brown', 'red', 'red', 'blue')\n",
      "('sport', 'brown', 'red', 'black', 'blue', 'brown')\n"
     ]
    }
   ],
   "source": [
    "result=cursor.execute(\"select Style_code,colors1,color2,color3,color4,color5 from table_2\")\n",
    "for row in result:\n",
    "    print( row)"
   ]
  },
  {
   "cell_type": "code",
   "execution_count": 93,
   "id": "52152886",
   "metadata": {},
   "outputs": [
    {
     "name": "stdout",
     "output_type": "stream",
     "text": [
      "(' Style_code  \\n', ' colors1', ' color2', ' color3 ')\n",
      "('Casual\\n', 'black', 'grey', 'white')\n",
      "('formal\\n', 'white', 'brown', 'red')\n",
      "('sport\\n', 'grey', 'black', 'white')\n",
      "('sheaker\\n', 'brown', 'red', 'black')\n",
      "('casual\\n', 'white', 'brown', 'red')\n",
      "('sport', 'brown', 'red', 'black')\n"
     ]
    }
   ],
   "source": [
    "result=cursor.execute(\"select Style_code,colors1,color2,color3 from table_2\")\n",
    "for row in result:\n",
    "    print( row)"
   ]
  },
  {
   "cell_type": "code",
   "execution_count": 94,
   "id": "f93e3be9",
   "metadata": {},
   "outputs": [
    {
     "name": "stdout",
     "output_type": "stream",
     "text": [
      "('count_of_sizes', ' colors1', ' color2', ' color3 ', 'color4', ' color5')\n",
      "(7, 'black', 'grey', 'white', 'brown', 'red')\n",
      "(8, 'white', 'brown', 'red', 'black', 'white')\n",
      "(9, 'grey', 'black', 'white', 'brown', 'red')\n",
      "(8, 'brown', 'red', 'black', 'white', 'red')\n",
      "(9, 'white', 'brown', 'red', 'red', 'blue')\n",
      "(7, 'brown', 'red', 'black', 'blue', 'brown')\n"
     ]
    }
   ],
   "source": [
    "result=cursor.execute(\"select count_of_sizes,colors1,color2,color3,color4,color5 from table_2\")\n",
    "for row in result:\n",
    "    print( row)"
   ]
  },
  {
   "cell_type": "code",
   "execution_count": 95,
   "id": "d699b785",
   "metadata": {},
   "outputs": [
    {
     "name": "stdout",
     "output_type": "stream",
     "text": [
      "(' Style_code  \\n', ' colors1')\n",
      "('Casual\\n', 'black')\n",
      "('formal\\n', 'white')\n",
      "('sport\\n', 'grey')\n",
      "('sheaker\\n', 'brown')\n",
      "('casual\\n', 'white')\n",
      "('sport', 'brown')\n"
     ]
    }
   ],
   "source": [
    "esult=cursor.execute(\"select Style_code,colors1 from table_2\")\n",
    "for row in result:\n",
    "    print( row)"
   ]
  },
  {
   "cell_type": "code",
   "execution_count": 96,
   "id": "cdaa3f68",
   "metadata": {},
   "outputs": [],
   "source": [
    "# Table 3\n",
    "\n"
   ]
  },
  {
   "cell_type": "code",
   "execution_count": 100,
   "id": "463e2ee5",
   "metadata": {},
   "outputs": [],
   "source": [
    "import sqlite3"
   ]
  },
  {
   "cell_type": "code",
   "execution_count": 101,
   "id": "2a430bd0",
   "metadata": {},
   "outputs": [],
   "source": [
    "db=sqlite3.connect('table_3_database.db')"
   ]
  },
  {
   "cell_type": "code",
   "execution_count": 102,
   "id": "763a0e57",
   "metadata": {},
   "outputs": [],
   "source": [
    "cursor=db.cursor()"
   ]
  },
  {
   "cell_type": "code",
   "execution_count": 103,
   "id": "cfe4d6ab",
   "metadata": {},
   "outputs": [
    {
     "data": {
      "text/plain": [
       "<sqlite3.Cursor at 0x168536cbdc0>"
      ]
     },
     "execution_count": 103,
     "metadata": {},
     "output_type": "execute_result"
    }
   ],
   "source": [
    "cursor.execute(\"create table table_3(reviews int, Size int, comfort text,quality text, star_rating int)\")"
   ]
  },
  {
   "cell_type": "code",
   "execution_count": 105,
   "id": "a209235a",
   "metadata": {},
   "outputs": [
    {
     "name": "stdout",
     "output_type": "stream",
     "text": [
      "6 Records inserted\n"
     ]
    }
   ],
   "source": [
    "with open('table_3.csv','r') as file:\n",
    "    total_records=0\n",
    "    for row in file:\n",
    "        cursor.execute(\"insert into table_3 values(?,?,?,?,?)\",row.split(\",\"))\n",
    "        db.commit()\n",
    "        total_records+=1\n",
    "print(total_records,'Records inserted')"
   ]
  },
  {
   "cell_type": "code",
   "execution_count": 106,
   "id": "6044c7e5",
   "metadata": {},
   "outputs": [
    {
     "name": "stdout",
     "output_type": "stream",
     "text": [
      "('reviews', ' Size', ' comfort', 'quality', ' star_rating\\n')\n",
      "(141, 8, 'best', 'good', 5)\n",
      "(201, 9, 'wonderful', 'nice', 4)\n",
      "(45, 7, 'fantastic', 'good', 3)\n",
      "(99, 8, 'best', 'nice', 4)\n",
      "(191, 9, 'wonderful', 'good', 5)\n"
     ]
    }
   ],
   "source": [
    "result=cursor.execute(\"select * from table_3\")\n",
    "for row in result:\n",
    "    print( row)"
   ]
  },
  {
   "cell_type": "code",
   "execution_count": 108,
   "id": "50bae540",
   "metadata": {},
   "outputs": [
    {
     "name": "stdout",
     "output_type": "stream",
     "text": [
      "(3.5, 'reviews')\n"
     ]
    }
   ],
   "source": [
    "result=cursor.execute(\"select avg(star_rating), reviews from table_3\")\n",
    "for row in result:\n",
    "    print( row)\n"
   ]
  },
  {
   "cell_type": "code",
   "execution_count": 110,
   "id": "ee87811e",
   "metadata": {},
   "outputs": [
    {
     "name": "stdout",
     "output_type": "stream",
     "text": [
      "(' star_rating\\n',)\n"
     ]
    }
   ],
   "source": [
    "result=cursor.execute(\"select max (star_rating) from table_3\")\n",
    "for row in result:\n",
    "    print( row)"
   ]
  },
  {
   "cell_type": "code",
   "execution_count": 111,
   "id": "0cc2f416",
   "metadata": {},
   "outputs": [
    {
     "name": "stdout",
     "output_type": "stream",
     "text": [
      "(6,)\n"
     ]
    }
   ],
   "source": [
    "result=cursor.execute(\"select count(reviews) from table_3\")\n",
    "for row in result:\n",
    "    print( row)"
   ]
  },
  {
   "cell_type": "code",
   "execution_count": 112,
   "id": "7e6576c1",
   "metadata": {},
   "outputs": [
    {
     "name": "stdout",
     "output_type": "stream",
     "text": [
      "('quality', 'reviews')\n",
      "('good', 141)\n",
      "('nice', 201)\n",
      "('good', 45)\n",
      "('nice', 99)\n",
      "('good', 191)\n"
     ]
    }
   ],
   "source": [
    "result=cursor.execute(\"select quality,reviews from table_3\")\n",
    "for row in result:\n",
    "    print( row)"
   ]
  },
  {
   "cell_type": "code",
   "execution_count": 115,
   "id": "1b9cfc1f",
   "metadata": {},
   "outputs": [
    {
     "name": "stdout",
     "output_type": "stream",
     "text": [
      "(4.2,)\n"
     ]
    }
   ],
   "source": [
    "result=cursor.execute(\"select avg(star_rating) from table_3 where Size\")\n",
    "for row in result:\n",
    "    print( row)"
   ]
  },
  {
   "cell_type": "code",
   "execution_count": null,
   "id": "1b6773b3",
   "metadata": {},
   "outputs": [],
   "source": []
  }
 ],
 "metadata": {
  "kernelspec": {
   "display_name": "Python 3 (ipykernel)",
   "language": "python",
   "name": "python3"
  },
  "language_info": {
   "codemirror_mode": {
    "name": "ipython",
    "version": 3
   },
   "file_extension": ".py",
   "mimetype": "text/x-python",
   "name": "python",
   "nbconvert_exporter": "python",
   "pygments_lexer": "ipython3",
   "version": "3.9.13"
  }
 },
 "nbformat": 4,
 "nbformat_minor": 5
}
